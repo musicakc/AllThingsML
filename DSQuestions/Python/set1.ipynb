{
 "cells": [
  {
   "cell_type": "code",
   "execution_count": 18,
   "id": "88434bf0-499d-4789-a30b-6914328ef83a",
   "metadata": {},
   "outputs": [],
   "source": [
    "import pandas as pd\n",
    "import numpy as np\n",
    "import matplotlib.pyplot as plt\n",
    "import heapq"
   ]
  },
  {
   "cell_type": "markdown",
   "id": "4a9e7dd3-8ab4-4959-b43d-c54aa2c35664",
   "metadata": {},
   "source": [
    "#### Question 1: Q1: Given two arrays, write a python function to return the intersection of the two? For example, X = [1,5,9,0] and Y = [3,0,2,9] it should return [9,0]"
   ]
  },
  {
   "cell_type": "code",
   "execution_count": 2,
   "id": "90f63e17-309f-4dce-8919-db3f5893e8d9",
   "metadata": {},
   "outputs": [],
   "source": [
    "def intersection(x,y):\n",
    "    n = len(X)\n",
    "    m = len(y)\n",
    "    i = 0\n",
    "    j = 0\n",
    "    res = []\n",
    "    for i in range(n):\n",
    "        for j in range(m):\n",
    "            if x[i] == y[j]:\n",
    "                res.append(x[i])\n",
    "    return res"
   ]
  },
  {
   "cell_type": "code",
   "execution_count": 4,
   "id": "1e54b4a4-9c1d-43b8-863f-ff1015d7bc81",
   "metadata": {},
   "outputs": [
    {
     "name": "stdout",
     "output_type": "stream",
     "text": [
      "[0, 9]\n"
     ]
    }
   ],
   "source": [
    "X = [1,5,9,0]\n",
    "Y = [3,0,2,9]\n",
    "print(intersection(X,Y))"
   ]
  },
  {
   "cell_type": "code",
   "execution_count": 14,
   "id": "a2e67ec0-fc56-41cf-bc42-b53a619f59c0",
   "metadata": {},
   "outputs": [
    {
     "name": "stdout",
     "output_type": "stream",
     "text": [
      "{0, 9}\n",
      "{0, 9}\n"
     ]
    }
   ],
   "source": [
    "X = [1,5,9,0]\n",
    "Y = [3,0,2,9]\n",
    "print(set(X).intersection(set(Y)))\n",
    "print(set(X) & set(Y))"
   ]
  },
  {
   "cell_type": "markdown",
   "id": "8c8df88d-309d-449c-9e61-101230dbd08d",
   "metadata": {},
   "source": [
    "#### Q2: Given an array, find all the duplicates in this array? For example: input: [1,2,3,1,3,6,5] output: [1,3]"
   ]
  },
  {
   "cell_type": "code",
   "execution_count": 21,
   "id": "3fc50dad-8cb8-46d7-b466-cf9d7e7188c6",
   "metadata": {},
   "outputs": [],
   "source": [
    "def duplicates(x):\n",
    "    seen = set()\n",
    "    res = []\n",
    "    for i in x:\n",
    "        if i not in seen:\n",
    "            seen.add(i)\n",
    "        else:\n",
    "            res.append(i)\n",
    "    return res    "
   ]
  },
  {
   "cell_type": "code",
   "execution_count": 22,
   "id": "d89cb1ac-00e7-4ab5-bb22-b688d8df92f2",
   "metadata": {},
   "outputs": [
    {
     "name": "stdout",
     "output_type": "stream",
     "text": [
      "[1, 3]\n"
     ]
    }
   ],
   "source": [
    "x = [1,2,3,1,3,6,5]\n",
    "print(duplicates(x))"
   ]
  },
  {
   "cell_type": "markdown",
   "id": "2aac8eb6-aea9-4163-9157-1f6385cb6790",
   "metadata": {},
   "source": [
    "#### Q3: Given an integer array, return the maximum product of any three numbers in the array?"
   ]
  },
  {
   "cell_type": "code",
   "execution_count": 23,
   "id": "9c4a6f71-929a-4900-b046-6c9e1ddc6acb",
   "metadata": {},
   "outputs": [],
   "source": [
    "def maxprod(arr,num=3):\n",
    "    arr.sort()\n",
    "    n = len(arr)\n",
    "    res = arr[-1]*arr[-2]*arr[-3]\n",
    "    return res        "
   ]
  },
  {
   "cell_type": "code",
   "execution_count": 27,
   "id": "168c266d-7b70-48fd-988c-101b8f940f3d",
   "metadata": {},
   "outputs": [
    {
     "name": "stdout",
     "output_type": "stream",
     "text": [
      "36\n"
     ]
    }
   ],
   "source": [
    "x = [-2,-9,0,1,2,3,-4,6]\n",
    "print(maxprod(x))"
   ]
  },
  {
   "cell_type": "code",
   "execution_count": 54,
   "id": "50b0aad2-6cca-41de-9872-f781233c9b3a",
   "metadata": {},
   "outputs": [],
   "source": [
    "def maxprod2(arr,num=3):\n",
    "    heapq.heapify(arr) #heapq\n",
    "    #print (arr)\n",
    "    res_arr = heapq.nlargest(num,arr)\n",
    "    res_arr_n = heapq.nsmallest(num,arr)\n",
    "    p = res_arr[0]*res_arr[1]*res_arr[2]\n",
    "    n = res_arr_n[0]*res_arr_n[1]*res_arr_n[2]\n",
    "    if p > n:\n",
    "        return p\n",
    "    else:\n",
    "        return n"
   ]
  },
  {
   "cell_type": "code",
   "execution_count": 57,
   "id": "62c0b8f4-7a35-42fb-a215-2b86ffc5db30",
   "metadata": {},
   "outputs": [
    {
     "name": "stdout",
     "output_type": "stream",
     "text": [
      "-4\n"
     ]
    }
   ],
   "source": [
    "x = [-2,-9,-1,-2,-4]\n",
    "print(maxprod2(x))"
   ]
  },
  {
   "cell_type": "markdown",
   "id": "25de3735-7fc0-4344-a196-b7ea124ac029",
   "metadata": {},
   "source": [
    "#### Q4: Given an integer array, find the sum of the largest contiguous subarray within the array. For example, given the array A = [0,-1,-5,-2,3,14] it should return 17 because of [3,14]. Note that if all the elements are negative it should return zero."
   ]
  },
  {
   "cell_type": "code",
   "execution_count": 8,
   "id": "10c6478b-6e5d-476a-967f-b481b9c46c89",
   "metadata": {},
   "outputs": [],
   "source": [
    "def sumx(X):\n",
    "    heapq.heapify(X) #heapq\n",
    "    #print (X)\n",
    "    res_arr = heapq.nlargest(2,X)\n",
    "    res = res_arr[0] + res_arr[1]\n",
    "    if res < 0:\n",
    "        return 0\n",
    "    else:\n",
    "        return res"
   ]
  },
  {
   "cell_type": "code",
   "execution_count": 9,
   "id": "77846d26-eb63-4101-a1c3-d4fb5fa5065b",
   "metadata": {},
   "outputs": [
    {
     "name": "stdout",
     "output_type": "stream",
     "text": [
      "0\n"
     ]
    }
   ],
   "source": [
    "x = [-2,-9,-1,-2,-4]\n",
    "print(sumx(x))"
   ]
  },
  {
   "cell_type": "code",
   "execution_count": 10,
   "id": "3c69108e-de2a-404a-afdf-1a276a05a55f",
   "metadata": {},
   "outputs": [
    {
     "name": "stdout",
     "output_type": "stream",
     "text": [
      "17\n"
     ]
    }
   ],
   "source": [
    "x = [0,-1,-5,-2,3,14]\n",
    "print(sumx(x))"
   ]
  },
  {
   "cell_type": "markdown",
   "id": "b593e982-9bdb-4bb2-b414-c9320ff0ed07",
   "metadata": {},
   "source": [
    "#### Q5: Define tuples and lists in Python What are the major differences between them?"
   ]
  },
  {
   "cell_type": "markdown",
   "id": "ae984a5f-b489-410c-8ba0-9cac63f7ae22",
   "metadata": {},
   "source": [
    "Tuples are immutable whereas lists are mutable and can be changed, but a tuple cannot be changed"
   ]
  },
  {
   "cell_type": "markdown",
   "id": "c27683c9-86a8-42f5-a8a7-f0351ab2af09",
   "metadata": {},
   "source": [
    "#### Q6: Compute the Euclidean Distance Between Two Series?"
   ]
  },
  {
   "cell_type": "code",
   "execution_count": 11,
   "id": "5a4f2e5a-b473-4903-9af2-ebde4824b340",
   "metadata": {},
   "outputs": [],
   "source": [
    "def eucldist(s1,s2):\n",
    "    dist = sum((s1-s2)**2)**0.5\n",
    "    return dist"
   ]
  },
  {
   "cell_type": "code",
   "execution_count": 13,
   "id": "f9d1b10c-db9e-4cdc-84d2-2298178c481c",
   "metadata": {},
   "outputs": [
    {
     "name": "stdout",
     "output_type": "stream",
     "text": [
      "316.22776601683796\n"
     ]
    }
   ],
   "source": [
    "s1 = pd.Series(range(0,10))\n",
    "s2 = pd.Series(range(100,110))\n",
    "print(eucldist(s1,s2))"
   ]
  },
  {
   "cell_type": "markdown",
   "id": "8accab5b-9dfd-4720-9400-03c9e3c1b527",
   "metadata": {},
   "source": [
    "#### Q7: Given an integer n and an integer K, output a list of all of the combination of k numbers chosen from 1 to n. For example, if n=3 and k=2, return [1,2][1,3],[2,3]"
   ]
  },
  {
   "cell_type": "code",
   "execution_count": 10,
   "id": "185642b7-69e3-47e6-8a32-1f2d93b0e066",
   "metadata": {},
   "outputs": [],
   "source": [
    "from itertools import combinations\n",
    "def comb(n,k):\n",
    "    lst = []\n",
    "    for i in range(1,n+1):\n",
    "        lst.append(i)\n",
    "    #print(lst)\n",
    "    combine = combinations(lst,2)\n",
    "    return combine"
   ]
  },
  {
   "cell_type": "code",
   "execution_count": 11,
   "id": "8586ae98-efa2-443e-8e5f-4d6d43e64723",
   "metadata": {},
   "outputs": [
    {
     "name": "stdout",
     "output_type": "stream",
     "text": [
      "(1, 2)\n",
      "(1, 3)\n",
      "(2, 3)\n"
     ]
    }
   ],
   "source": [
    "res = comb(3,2)\n",
    "for i in res:\n",
    "    print(i)"
   ]
  },
  {
   "cell_type": "markdown",
   "id": "da0e5821-1d68-4af6-9921-2fc3d9e9e0e0",
   "metadata": {},
   "source": [
    "#### Q8: Write a function to generate N samples from a normal distribution and plot them on the histogram"
   ]
  },
  {
   "cell_type": "code",
   "execution_count": 23,
   "id": "417f118c-750e-40e4-a30f-f3e2327e39c6",
   "metadata": {},
   "outputs": [],
   "source": [
    "import random\n",
    "def randomn(n):\n",
    "    random.seed(8)\n",
    "    y = np.random.normal(0,1,n)\n",
    "    plt.hist(y,density=True)\n",
    "    return y"
   ]
  },
  {
   "cell_type": "code",
   "execution_count": 25,
   "id": "ad7b0fa0-6cdd-42db-98b2-8dec7ef346bc",
   "metadata": {},
   "outputs": [
    {
     "data": {
      "text/plain": [
       "array([ 1.34412596, -0.38100915, -0.47621605,  2.25167055,  0.21210449,\n",
       "        0.53764558, -0.50698036, -1.43239138, -1.30303078, -0.47889975])"
      ]
     },
     "execution_count": 25,
     "metadata": {},
     "output_type": "execute_result"
    },
    {
     "data": {
      "image/png": "[encoded data removed]",
      "text/plain": [
       "<Figure size 640x480 with 1 Axes>"
      ]
     },
     "metadata": {},
     "output_type": "display_data"
    }
   ],
   "source": [
    "randomn(10)"
   ]
  },
  {
   "cell_type": "markdown",
   "id": "50673672-0efa-4d0f-bad9-f8e5a5f04e81",
   "metadata": {},
   "source": [
    "#### Q9: What is the difference between apply and applymap function in pandas?"
   ]
  },
  {
   "cell_type": "markdown",
   "id": "4fa440c8-e644-4f13-98cf-4e64fb126dc9",
   "metadata": {},
   "source": [
    "Apply is used on row/column wise\n",
    "Applymap is element wise"
   ]
  },
  {
   "cell_type": "markdown",
   "id": "b04c521d-9613-403c-a57d-8e5662ade4d2",
   "metadata": {},
   "source": [
    "#### Q10: Given a string, return the first recurring character in it, or “None” if there is no recurring character. Example: input = \"pythoninterviewquestion\" , output = \"n\""
   ]
  },
  {
   "cell_type": "code",
   "execution_count": 26,
   "id": "318611c1-1967-47b3-abdd-768a56a418dc",
   "metadata": {},
   "outputs": [],
   "source": [
    "def recurring(input):\n",
    "    d = {}\n",
    "    for i in input:\n",
    "        if i in d:\n",
    "            return i\n",
    "        else:\n",
    "            d[i] = 1\n",
    "    return None"
   ]
  },
  {
   "cell_type": "code",
   "execution_count": null,
   "id": "89648c65-c39b-4e6e-bb85-009b99b6b697",
   "metadata": {},
   "outputs": [],
   "source": [
    "print( re"
   ]
  }
 ],
 "metadata": {
  "kernelspec": {
   "display_name": "Python 3 (ipykernel)",
   "language": "python",
   "name": "python3"
  },
  "language_info": {
   "codemirror_mode": {
    "name": "ipython",
    "version": 3
   },
   "file_extension": ".py",
   "mimetype": "text/x-python",
   "name": "python",
   "nbconvert_exporter": "python",
   "pygments_lexer": "ipython3",
   "version": "3.10.2"
  }
 },
 "nbformat": 4,
 "nbformat_minor": 5
}
