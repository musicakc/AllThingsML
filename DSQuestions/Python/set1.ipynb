{
 "cells": [
  {
   "cell_type": "code",
   "execution_count": 1,
   "id": "88434bf0-499d-4789-a30b-6914328ef83a",
   "metadata": {},
   "outputs": [],
   "source": [
    "import pandas as pd\n",
    "import numpy as np"
   ]
  },
  {
   "cell_type": "markdown",
   "id": "4a9e7dd3-8ab4-4959-b43d-c54aa2c35664",
   "metadata": {},
   "source": [
    "#### Question 1: Q1: Given two arrays, write a python function to return the intersection of the two? For example, X = [1,5,9,0] and Y = [3,0,2,9] it should return [9,0]"
   ]
  },
  {
   "cell_type": "code",
   "execution_count": 2,
   "id": "90f63e17-309f-4dce-8919-db3f5893e8d9",
   "metadata": {},
   "outputs": [],
   "source": [
    "def intersection(x,y):\n",
    "    n = len(X)\n",
    "    m = len(y)\n",
    "    i = 0\n",
    "    j = 0\n",
    "    res = []\n",
    "    for i in range(n):\n",
    "        for j in range(m):\n",
    "            if x[i] == y[j]:\n",
    "                res.append(x[i])\n",
    "    return res"
   ]
  },
  {
   "cell_type": "code",
   "execution_count": 4,
   "id": "1e54b4a4-9c1d-43b8-863f-ff1015d7bc81",
   "metadata": {},
   "outputs": [
    {
     "name": "stdout",
     "output_type": "stream",
     "text": [
      "[0, 9]\n"
     ]
    }
   ],
   "source": [
    "X = [1,5,9,0]\n",
    "Y = [3,0,2,9]\n",
    "print(intersection(X,Y))"
   ]
  },
  {
   "cell_type": "code",
   "execution_count": 14,
   "id": "a2e67ec0-fc56-41cf-bc42-b53a619f59c0",
   "metadata": {},
   "outputs": [
    {
     "name": "stdout",
     "output_type": "stream",
     "text": [
      "{0, 9}\n",
      "{0, 9}\n"
     ]
    }
   ],
   "source": [
    "X = [1,5,9,0]\n",
    "Y = [3,0,2,9]\n",
    "print(set(X).intersection(set(Y)))\n",
    "print(set(X) & set(Y))"
   ]
  },
  {
   "cell_type": "markdown",
   "id": "8c8df88d-309d-449c-9e61-101230dbd08d",
   "metadata": {},
   "source": [
    "#### Q2: Given an array, find all the duplicates in this array? For example: input: [1,2,3,1,3,6,5] output: [1,3]"
   ]
  },
  {
   "cell_type": "code",
   "execution_count": null,
   "id": "3fc50dad-8cb8-46d7-b466-cf9d7e7188c6",
   "metadata": {},
   "outputs": [],
   "source": [
    "x = [1,2,3,1,3,6,5"
   ]
  }
 ],
 "metadata": {
  "kernelspec": {
   "display_name": "Python 3 (ipykernel)",
   "language": "python",
   "name": "python3"
  },
  "language_info": {
   "codemirror_mode": {
    "name": "ipython",
    "version": 3
   },
   "file_extension": ".py",
   "mimetype": "text/x-python",
   "name": "python",
   "nbconvert_exporter": "python",
   "pygments_lexer": "ipython3",
   "version": "3.10.2"
  }
 },
 "nbformat": 4,
 "nbformat_minor": 5
}
